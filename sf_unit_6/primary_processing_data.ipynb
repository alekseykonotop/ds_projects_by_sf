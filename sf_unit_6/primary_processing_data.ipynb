{
 "cells": [
  {
   "cell_type": "markdown",
   "metadata": {},
   "source": [
    "# Первичная обработка данных\n",
    "\n",
    " Некоторые признаки нуждаются в предобработке.  \n",
    " Этот шаг можно было сделать в рамках основного jupyter notebook файла, но я решил поступить иначе.  \n",
    " Если вы не хотите плодить файлы в своем проекта, то просто скопируйте код в свой jupyter notebook."
   ]
  },
  {
   "cell_type": "code",
   "execution_count": 1,
   "metadata": {},
   "outputs": [],
   "source": [
    "# imports\n",
    "import pandas as pd\n",
    "import numpy as np\n",
    "from datetime import datetime"
   ]
  },
  {
   "cell_type": "code",
   "execution_count": 2,
   "metadata": {},
   "outputs": [],
   "source": [
    "# Read the data\n",
    "df = pd.read_csv('car_prices_multiprocessing_08_11_2020.csv')\n",
    "df.shape"
   ]
  },
  {
   "cell_type": "code",
   "execution_count": null,
   "metadata": {},
   "outputs": [],
   "source": [
    "# Посмотрим на данные\n",
    "df.head()"
   ]
  },
  {
   "cell_type": "markdown",
   "metadata": {},
   "source": [
    "## Первичные преобразования\n",
    "Признаки, требующие преобразования:\n",
    "- **fuelType**\n",
    "- **color_hex**\n",
    "- **Руль**\n",
    "- **vehicleTransmission**\n",
    "- **Привод**"
   ]
  },
  {
   "cell_type": "code",
   "execution_count": 4,
   "metadata": {},
   "outputs": [],
   "source": [
    "fuel_type_converter = {\n",
    "    'GASOLINE': 'бензин',\n",
    "    'DIESEL': 'дизель',\n",
    "    'HYBRID': 'гибрид',\n",
    "    'ELECTRO': 'электро',\n",
    "    'LPG': 'газ',\n",
    "}\n",
    "\n",
    "color_convertor = {\n",
    "    '040001': 'черный',\n",
    "    'FAFBFB': 'белый',\n",
    "    '0000CC': 'синий',\n",
    "    '97948F': 'серый',\n",
    "    'CACECB': 'серебристый',\n",
    "    '200204': 'коричневый',\n",
    "    'EE1D19': 'красный',\n",
    "    '007F00': 'зелёный',\n",
    "    '22A0F8': 'голубой',\n",
    "    'C49648': 'бежевый.',\n",
    "    'DEA522': 'золотистый',\n",
    "    'FF8649': 'оранжевый',\n",
    "    '660099': 'фиолетовый',\n",
    "    '4A2197': 'пурпурный',\n",
    "    'FFD600': 'жёлтый',\n",
    "    'FFC0CB': 'розовый',    \n",
    "}\n",
    "\n",
    "wheel_convertor = {\n",
    "    'LEFT': 'левый',\n",
    "    'RIGHT': 'правый',\n",
    "}\n",
    "\n",
    "transmission_converter = {\n",
    "    'MECHANICAL': 'механическая',\n",
    "    'AUTOMATIC': 'автоматическая',\n",
    "    'ROBOT': 'роботизированная',\n",
    "    'VARIATOR': 'вариаторная'\n",
    "}\n",
    "\n",
    "gear_type_convertor = {\n",
    "    'REAR_DRIVE': 'задний',\n",
    "    'ALL_WHEEL_DRIVE': 'полный',\n",
    "    'FORWARD_CONTROL': 'передний',\n",
    "}\n",
    "\n",
    "pts_convertor = {\n",
    "    'ORIGINAL': 'Оригинал',\n",
    "    'DUPLICATE': 'Дубликат',\n",
    "}\n",
    "\n",
    "def convert_features(data):\n",
    "    data.fuelType.replace(fuel_type_converter, inplace=True)\n",
    "\n",
    "    # преобразуем значения цветов из hex-формата в строчное название цвета\n",
    "    data['color'] = data.color_hex.apply(lambda x: color_convertor[x])\n",
    "    data.drop(labels='color_hex', axis=1, inplace=True)\n",
    "    \n",
    "    # Преобразуем признак steering_wheel\n",
    "    data['Руль'].replace(wheel_convertor, inplace=True)\n",
    "    \n",
    "    # Преобразуем признак vehicleTransmission\n",
    "    data.vehicleTransmission.replace(transmission_converter, inplace=True)\n",
    "    \n",
    "    # Преобразуем признак gear_type\n",
    "    data['Привод'].replace(gear_type_convertor, inplace=True)\n",
    "    \n",
    "    # Преобразуем признак ПТС\n",
    "    data['ПТС'].replace(pts_convertor, inplace=True)\n",
    "    \n",
    "    # Переведем в верхний регистр название бренда\n",
    "    data.brand = data.brand.str.upper()\n",
    "    \n",
    "    return data"
   ]
  },
  {
   "cell_type": "code",
   "execution_count": null,
   "metadata": {},
   "outputs": [],
   "source": [
    "df = convert_features(df)"
   ]
  },
  {
   "cell_type": "code",
   "execution_count": null,
   "metadata": {},
   "outputs": [],
   "source": [
    "df.isnull().sum()"
   ]
  },
  {
   "cell_type": "code",
   "execution_count": null,
   "metadata": {},
   "outputs": [],
   "source": [
    "# удалим объекты без цены и с пропусками в след. признаках\n",
    "cols_to_dropna = 'bodyType engineDisplacement enginePower fuelType modelDate name numberOfDoors super_gen vehicleConfiguration vehicleTransmission Привод price price_timestamp price_segment'.split(' ')\n",
    "\n",
    "df = df.dropna(subset=cols_to_dropna)"
   ]
  },
  {
   "cell_type": "markdown",
   "metadata": {},
   "source": [
    "### Запись в файл"
   ]
  },
  {
   "cell_type": "code",
   "execution_count": 3,
   "metadata": {},
   "outputs": [],
   "source": [
    "def write_to_csv(data, file_name):\n",
    "    date_str = datetime.now().strftime('%d_%m_%Y')\n",
    "    df.to_csv(f\"{file_name}_{date_str}_final.csv\", index=False, encoding='utf-8')"
   ]
  },
  {
   "cell_type": "code",
   "execution_count": null,
   "metadata": {},
   "outputs": [],
   "source": [
    "write_to_csv(df, 'car_prices')"
   ]
  }
 ],
 "metadata": {
  "kernelspec": {
   "display_name": "Python 3",
   "language": "python",
   "name": "python3"
  },
  "language_info": {
   "codemirror_mode": {
    "name": "ipython",
    "version": 3
   },
   "file_extension": ".py",
   "mimetype": "text/x-python",
   "name": "python",
   "nbconvert_exporter": "python",
   "pygments_lexer": "ipython3",
   "version": "3.7.6"
  }
 },
 "nbformat": 4,
 "nbformat_minor": 4
}
